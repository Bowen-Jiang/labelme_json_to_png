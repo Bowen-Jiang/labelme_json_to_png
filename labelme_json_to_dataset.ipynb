{
 "cells": [
  {
   "cell_type": "code",
   "execution_count": 1,
   "metadata": {},
   "outputs": [],
   "source": [
    "import os\n",
    "import numpy as np\n",
    "import cv2\n",
    "import shutil"
   ]
  },
  {
   "cell_type": "code",
   "execution_count": 4,
   "metadata": {},
   "outputs": [],
   "source": [
    "def Json2png(input_path,temp_path,mask_path):\n",
    "    json_path = os.listdir(input_path)\n",
    "#     print(json_path)\n",
    "    for file_name in json_path:\n",
    "        if file_name.endswith('.json'):\n",
    "            file_name_path = os.path.join(input_path+\"/\"+ file_name)\n",
    "            print(\"file_name_path:\",file_name_path)\n",
    "            file_name_noext = os.path.splitext(file_name)[0]\n",
    "            print(\"file_name_noext:\",file_name_noext)\n",
    "            temp_dir = os.path.join(temp_path +\"/\"+file_name_noext)\n",
    "            print(\"output_dir:\",temp_dir)\n",
    "\n",
    "            labelme_str = \"python json_to_dataset.py \"+str(file_name_path)+\" -o \"+str(temp_dir)\n",
    "            print(\"labelme_str:\",labelme_str)\n",
    "            os.system(labelme_str)\n",
    "\n",
    "            #pop-up slam input format\n",
    "            raw_file = os.path.join(temp_dir + \"/\" + \"img.png\")\n",
    "            img_file = os.path.join(temp_dir + \"/\" + \"label.png\")\n",
    "            raw = cv2.imread(raw_file)\n",
    "            img = cv2.imread(img_file,cv2.IMREAD_GRAYSCALE)\n",
    "#             cv2.imshow(file_name_noext+\"_raw\",raw)\n",
    "#             cv2.imshow(file_name_noext,img)\n",
    "#             cv2.waitKey(0)\n",
    "\n",
    "            #二值化\n",
    "            thres = 1\n",
    "            img_binary = cv2.threshold(img, thres, 255, cv2.THRESH_BINARY)[1]\n",
    "#             cv2.imshow(\"binary\",img_binary)\n",
    "#             cv2.waitKey(0)\n",
    "\n",
    "            #save\n",
    "            img_raw_file = os.path.join(mask_path+\"/rgb_\"+file_name_noext+\".png\")\n",
    "            img_binary_file = os.path.join(mask_path+\"/label_\"+file_name_noext+\".png\")\n",
    "\n",
    "            cv2.imwrite(img_raw_file,raw)\n",
    "            cv2.imwrite(img_binary_file,img_binary)"
   ]
  },
  {
   "cell_type": "code",
   "execution_count": 5,
   "metadata": {},
   "outputs": [
    {
     "name": "stdout",
     "output_type": "stream",
     "text": [
      "file_name_path: data/label/1608894425401594112.json\n",
      "file_name_noext: 1608894425401594112\n",
      "output_dir: data/temp/1608894425401594112\n",
      "labelme_str: python json_to_dataset.py data/label/1608894425401594112.json -o data/temp/1608894425401594112\n"
     ]
    }
   ],
   "source": [
    "#路徑\n",
    "if __name__ == \"__main__\":\n",
    "    input_path = \"data/label\" \n",
    "    temp_path = \"data/temp\"\n",
    "    mask_path = \"data/output\"\n",
    "    Json2png(input_path,temp_path,mask_path)\n"
   ]
  }
 ],
 "metadata": {
  "kernelspec": {
   "display_name": "Python 3",
   "language": "python",
   "name": "python3"
  },
  "language_info": {
   "codemirror_mode": {
    "name": "ipython",
    "version": 3
   },
   "file_extension": ".py",
   "mimetype": "text/x-python",
   "name": "python",
   "nbconvert_exporter": "python",
   "pygments_lexer": "ipython3",
   "version": "3.7.3"
  }
 },
 "nbformat": 4,
 "nbformat_minor": 2
}
